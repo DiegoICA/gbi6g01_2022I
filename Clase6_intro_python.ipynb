{
  "nbformat": 4,
  "nbformat_minor": 0,
  "metadata": {
    "colab": {
      "name": "Clase6_intro_python.ipynb",
      "provenance": [],
      "authorship_tag": "ABX9TyNhva+siw3SDdBc6ZE5jM2V",
      "include_colab_link": true
    },
    "kernelspec": {
      "name": "python3",
      "display_name": "Python 3"
    },
    "language_info": {
      "name": "python"
    }
  },
  "cells": [
    {
      "cell_type": "markdown",
      "metadata": {
        "id": "view-in-github",
        "colab_type": "text"
      },
      "source": [
        "<a href=\"https://colab.research.google.com/github/DiegoICA/gbi6g01_2022I/blob/main/Clase6_intro_python.ipynb\" target=\"_parent\"><img src=\"https://colab.research.google.com/assets/colab-badge.svg\" alt=\"Open In Colab\"/></a>"
      ]
    },
    {
      "cell_type": "code",
      "execution_count": null,
      "metadata": {
        "id": "SIv58K3fwleV"
      },
      "outputs": [],
      "source": [
        ""
      ]
    },
    {
      "cell_type": "markdown",
      "source": [
        "# BIOINFORMÁTICA\n",
        "\n",
        "## CLASE 6: Introducción a Phyton\n",
        "\n",
        "En esta clase vamos a revisar los siguientes contenidos:\n",
        "\n",
        "1. Historia de Python\n",
        "2. Tipos de datos\n",
        "3. Operaciones con números\n",
        "4. Operaciones con texto\n",
        "\n",
        "## 1. HISTORIA DE PHYTON\n",
        "\n",
        "La historia de Python se puede leer en la [página web python](https://www.python.org/doc/)"
      ],
      "metadata": {
        "id": "EBSUz9WNx7Sl"
      }
    },
    {
      "cell_type": "code",
      "source": [
        ""
      ],
      "metadata": {
        "id": "VG3oTiH50Mgy"
      },
      "execution_count": null,
      "outputs": []
    },
    {
      "cell_type": "markdown",
      "source": [
        "## 2. TIPOS DE DATOS\n",
        "\n",
        "- Numéricos: (integer, int), decimales (double), complejos (complex).\n",
        "- Lógicos: Verdadero (TRUE, T), Falso (FALSE, F)\n",
        "- Texto: Cadena de caracteres *Siempre entre comillas* "
      ],
      "metadata": {
        "id": "PYAUqYfG0be0"
      }
    },
    {
      "cell_type": "code",
      "source": [
        "gen1_r = 1.5\n",
        "gen1_h = 1.7\n",
        "dif_gen1 = gen1_r - gen1_h\n",
        "ratio_gen1 = gen1_r / gen1_h\n"
      ],
      "metadata": {
        "id": "RtNgBsz53DGJ"
      },
      "execution_count": null,
      "outputs": []
    },
    {
      "cell_type": "code",
      "source": [
        "print(\"gen1_h:\" , gen1_h)\n",
        "print(\"gen1_r:\" , gen1_r)\n",
        "print(\"dif_gen1:\" , dif_gen1)\n",
        "print(\"ratio_gen1:\" , ratio_gen1)"
      ],
      "metadata": {
        "colab": {
          "base_uri": "https://localhost:8080/"
        },
        "id": "yyXdnljW54mi",
        "outputId": "263b5737-8e10-448e-e62c-c739c3be2547"
      },
      "execution_count": null,
      "outputs": [
        {
          "output_type": "stream",
          "name": "stdout",
          "text": [
            "gen1_h: 1.7\n",
            "gen1_r: 1.5\n",
            "dif_gen1: -0.19999999999999996\n",
            "ratio_gen1: 0.8823529411764706\n"
          ]
        }
      ]
    },
    {
      "cell_type": "code",
      "source": [
        "saludo = \"hola con todxs, que bueno que no hay examen\"\n",
        "saludo.upper()"
      ],
      "metadata": {
        "colab": {
          "base_uri": "https://localhost:8080/",
          "height": 35
        },
        "id": "Pa1T7ujn765I",
        "outputId": "eb2b8de2-b2f6-4f3a-d1f7-4807ab07a32c"
      },
      "execution_count": null,
      "outputs": [
        {
          "output_type": "execute_result",
          "data": {
            "text/plain": [
              "'HOLA CON TODXS, QUE BUENO QUE NO HAY EXAMEN'"
            ],
            "application/vnd.google.colaboratory.intrinsic+json": {
              "type": "string"
            }
          },
          "metadata": {},
          "execution_count": 14
        }
      ]
    },
    {
      "cell_type": "code",
      "source": [
        "len(saludo)"
      ],
      "metadata": {
        "colab": {
          "base_uri": "https://localhost:8080/"
        },
        "id": "_BA2bqB29UUg",
        "outputId": "1d4a1d00-1129-4097-8ee4-3b4b79f45a0c"
      },
      "execution_count": null,
      "outputs": [
        {
          "output_type": "execute_result",
          "data": {
            "text/plain": [
              "43"
            ]
          },
          "metadata": {},
          "execution_count": 16
        }
      ]
    },
    {
      "cell_type": "code",
      "source": [
        "# En este bloque se revisa el uso combinado de funciones\n",
        "total=len(saludo)\n",
        "char_a= saludo.count(\"a\")\n",
        "ratio_a = 100*char_a / total\n",
        "print(\"porcentaje de a:\" , ratio_a)"
      ],
      "metadata": {
        "colab": {
          "base_uri": "https://localhost:8080/"
        },
        "id": "rvQakG7w-K2t",
        "outputId": "8dfb2905-d8a0-4579-d532-991e7b7f7544"
      },
      "execution_count": null,
      "outputs": [
        {
          "output_type": "stream",
          "name": "stdout",
          "text": [
            "porcentaje de a: 6.976744186046512\n"
          ]
        }
      ]
    },
    {
      "cell_type": "markdown",
      "source": [
        "## Porcentaje de GC\n",
        "\n",
        "Calcular el porcentahe de contenido de nucleotidos G y C en la siguiente secuencia.\n"
      ],
      "metadata": {
        "id": "IIMydnRL_gvM"
      }
    },
    {
      "cell_type": "code",
      "source": [
        "p53_l1 = \"TTCCTGGNCTGTAGGTAGCGACTACAGTTAGGGGGCACCTAGCATTCAGGCCCTCATCCTCCTCCTTCCCAGCAGGGTGTCACGCTTCTCCGAAGACTGGATGACTGCCATGGAGGAGTCACAGTCGGATATCAGCCTCGAGCTCCCTCTGAGCCAGGAGACATTTTCAGGCTTATGGAAACTACTTCCTCCAGAAGATATCCTGCCATC\""
      ],
      "metadata": {
        "id": "IxmArd1j_rLl"
      },
      "execution_count": 55,
      "outputs": []
    },
    {
      "cell_type": "code",
      "source": [
        "percent_GC = 100*(p53_l1.count(\"G\") + p53_l1.count(\"C\"))/len(p53_l1)\n",
        "print(\"Porcentaje GC en P53_lineal:\" , round(percent_GC, 3))"
      ],
      "metadata": {
        "colab": {
          "base_uri": "https://localhost:8080/"
        },
        "id": "rF1Fm0s2CXs_",
        "outputId": "7b348b6d-0e23-4a85-a18f-9e6a217f6425"
      },
      "execution_count": 56,
      "outputs": [
        {
          "output_type": "stream",
          "name": "stdout",
          "text": [
            "Porcentaje GC en P53_lineal: 54.286\n"
          ]
        }
      ]
    },
    {
      "cell_type": "code",
      "source": [
        "# SUbconjunto\n",
        "print(p53_l1)\n",
        "fi = p53_l1.find(\"TAC\") #Si se tiene\n",
        "ff1 = p53_l1.find(\"ATT\") #Si se tiene\n",
        "ff2 = p53_l1.find(\"ATC\")\n",
        "ff3 = p53_l1.find(\"ACT\")"
      ],
      "metadata": {
        "id": "UvxKdjS3FASR",
        "colab": {
          "base_uri": "https://localhost:8080/"
        },
        "outputId": "76a618dd-60bf-42fb-b637-7f1f85144e7e"
      },
      "execution_count": 57,
      "outputs": [
        {
          "output_type": "stream",
          "name": "stdout",
          "text": [
            "TTCCTGGNCTGTAGGTAGCGACTACAGTTAGGGGGCACCTAGCATTCAGGCCCTCATCCTCCTCCTTCCCAGCAGGGTGTCACGCTTCTCCGAAGACTGGATGACTGCCATGGAGGAGTCACAGTCGGATATCAGCCTCGAGCTCCCTCTGAGCCAGGAGACATTTTCAGGCTTATGGAAACTACTTCCTCCAGAAGATATCCTGCCATC\n"
          ]
        }
      ]
    },
    {
      "cell_type": "code",
      "source": [
        "p53_l1 [0:2]"
      ],
      "metadata": {
        "colab": {
          "base_uri": "https://localhost:8080/",
          "height": 35
        },
        "id": "-osqUP_UN7fO",
        "outputId": "63b078cf-c08b-4d0a-dd4b-f142352b306a"
      },
      "execution_count": 58,
      "outputs": [
        {
          "output_type": "execute_result",
          "data": {
            "text/plain": [
              "'TT'"
            ],
            "application/vnd.google.colaboratory.intrinsic+json": {
              "type": "string"
            }
          },
          "metadata": {},
          "execution_count": 58
        }
      ]
    },
    {
      "cell_type": "code",
      "source": [
        "mRNA_f1 = p53_l1 [fi:ff1+3]\n",
        "mRNA_f1"
      ],
      "metadata": {
        "colab": {
          "base_uri": "https://localhost:8080/",
          "height": 35
        },
        "id": "bh3YZrssP67t",
        "outputId": "0f6b3f98-47cf-4c69-ea7a-ece8da17fe5f"
      },
      "execution_count": 59,
      "outputs": [
        {
          "output_type": "execute_result",
          "data": {
            "text/plain": [
              "'TACAGTTAGGGGGCACCTAGCATT'"
            ],
            "application/vnd.google.colaboratory.intrinsic+json": {
              "type": "string"
            }
          },
          "metadata": {},
          "execution_count": 59
        }
      ]
    },
    {
      "cell_type": "code",
      "source": [
        "# Cadena Complementaria\n",
        "print(saludo)\n",
        "saludo.replace(\"xs\" , \"es\")"
      ],
      "metadata": {
        "colab": {
          "base_uri": "https://localhost:8080/",
          "height": 53
        },
        "id": "YpcsLJr5Q3Fd",
        "outputId": "5e19ff94-a801-441d-dcd8-27f278a31804"
      },
      "execution_count": 60,
      "outputs": [
        {
          "output_type": "stream",
          "name": "stdout",
          "text": [
            "hola con todxs, que bueno que no hay examen\n"
          ]
        },
        {
          "output_type": "execute_result",
          "data": {
            "text/plain": [
              "'hola con todes, que bueno que no hay examen'"
            ],
            "application/vnd.google.colaboratory.intrinsic+json": {
              "type": "string"
            }
          },
          "metadata": {},
          "execution_count": 60
        }
      ]
    },
    {
      "cell_type": "code",
      "source": [
        "p53_a = p53_l1.replace(\"A\" , \"t\")\n",
        "p53_t = p53_a.replace(\"T\" , \"a\")\n",
        "p53_g = p53_t.replace(\"G\" , \"c\")\n",
        "p53_c = p53_g.replace(\"C\" , \"g\")\n",
        "p53_l1c = p53_c.upper()\n",
        "p53_l1c"
      ],
      "metadata": {
        "colab": {
          "base_uri": "https://localhost:8080/",
          "height": 53
        },
        "id": "LG6734koRwDt",
        "outputId": "45b039bf-b353-4bdd-c8e4-9752fa526bf4"
      },
      "execution_count": 61,
      "outputs": [
        {
          "output_type": "execute_result",
          "data": {
            "text/plain": [
              "'AAGGACCNGACATCCATCGCTGATGTCAATCCCCCGTGGATCGTAAGTCCGGGAGTAGGAGGAGGAAGGGTCGTCCCACAGTGCGAAGAGGCTTCTGACCTACTGACGGTACCTCCTCAGTGTCAGCCTATAGTCGGAGCTCGAGGGAGACTCGGTCCTCTGTAAAAGTCCGAATACCTTTGATGAAGGAGGTCTTCTATAGGACGGTAG'"
            ],
            "application/vnd.google.colaboratory.intrinsic+json": {
              "type": "string"
            }
          },
          "metadata": {},
          "execution_count": 61
        }
      ]
    },
    {
      "cell_type": "code",
      "source": [
        "print(p53_l1)\n",
        "print(p53_c)"
      ],
      "metadata": {
        "colab": {
          "base_uri": "https://localhost:8080/"
        },
        "id": "hrPYYI8LTxkN",
        "outputId": "35a27ad5-5caa-4edc-b77b-f88a79acdfd5"
      },
      "execution_count": 62,
      "outputs": [
        {
          "output_type": "stream",
          "name": "stdout",
          "text": [
            "TTCCTGGNCTGTAGGTAGCGACTACAGTTAGGGGGCACCTAGCATTCAGGCCCTCATCCTCCTCCTTCCCAGCAGGGTGTCACGCTTCTCCGAAGACTGGATGACTGCCATGGAGGAGTCACAGTCGGATATCAGCCTCGAGCTCCCTCTGAGCCAGGAGACATTTTCAGGCTTATGGAAACTACTTCCTCCAGAAGATATCCTGCCATC\n",
            "aaggaccNgacatccatcgctgatgtcaatcccccgtggatcgtaagtccgggagtaggaggaggaagggtcgtcccacagtgcgaagaggcttctgacctactgacggtacctcctcagtgtcagcctatagtcggagctcgagggagactcggtcctctgtaaaagtccgaatacctttgatgaaggaggtcttctataggacggtag\n"
          ]
        }
      ]
    },
    {
      "cell_type": "code",
      "source": [
        "p53_l1c_r = p53_l1c [::-1]\n",
        "print(p53_l1)\n",
        "print(p53_l1c)\n",
        "print(p53_l1c_r)"
      ],
      "metadata": {
        "colab": {
          "base_uri": "https://localhost:8080/"
        },
        "id": "xWIZOMeNUuJI",
        "outputId": "d0c6e198-622d-4515-e65b-3ee319ff5ad1"
      },
      "execution_count": 63,
      "outputs": [
        {
          "output_type": "stream",
          "name": "stdout",
          "text": [
            "TTCCTGGNCTGTAGGTAGCGACTACAGTTAGGGGGCACCTAGCATTCAGGCCCTCATCCTCCTCCTTCCCAGCAGGGTGTCACGCTTCTCCGAAGACTGGATGACTGCCATGGAGGAGTCACAGTCGGATATCAGCCTCGAGCTCCCTCTGAGCCAGGAGACATTTTCAGGCTTATGGAAACTACTTCCTCCAGAAGATATCCTGCCATC\n",
            "AAGGACCNGACATCCATCGCTGATGTCAATCCCCCGTGGATCGTAAGTCCGGGAGTAGGAGGAGGAAGGGTCGTCCCACAGTGCGAAGAGGCTTCTGACCTACTGACGGTACCTCCTCAGTGTCAGCCTATAGTCGGAGCTCGAGGGAGACTCGGTCCTCTGTAAAAGTCCGAATACCTTTGATGAAGGAGGTCTTCTATAGGACGGTAG\n",
            "GATGGCAGGATATCTTCTGGAGGAAGTAGTTTCCATAAGCCTGAAAATGTCTCCTGGCTCAGAGGGAGCTCGAGGCTGATATCCGACTGTGACTCCTCCATGGCAGTCATCCAGTCTTCGGAGAAGCGTGACACCCTGCTGGGAAGGAGGAGGATGAGGGCCTGAATGCTAGGTGCCCCCTAACTGTAGTCGCTACCTACAGNCCAGGAA\n"
          ]
        }
      ]
    }
  ]
}